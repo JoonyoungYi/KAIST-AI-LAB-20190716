{
 "cells": [
  {
   "cell_type": "markdown",
   "metadata": {},
   "source": [
    "## Introduction\n",
    "이번 실습에서는 좀 더 복잡한 데이터와 모델을 최적화해보도록 하겠습니다."
   ]
  },
  {
   "cell_type": "code",
   "execution_count": 1,
   "metadata": {},
   "outputs": [],
   "source": [
    "import numpy as np\n",
    "import matplotlib.pyplot as plt\n",
    "import tensorflow as tf\n",
    "from tensorflow import keras\n",
    "from tensorflow.keras.datasets import cifar10\n",
    "from time import time\n",
    "\n",
    "seed = 777\n",
    "np.random.seed(seed)\n",
    "tf.random.set_random_seed(seed) # for reproducibility"
   ]
  },
  {
   "cell_type": "markdown",
   "metadata": {},
   "source": [
    "## Dataset info\n",
    "cifar-10은 10가지 카테고리의 32x32 컬러(RGB) 이미지들로 구성되어 있으며 50,000장의 training data, 10,000장의 test data로 이루어져 있습니다."
   ]
  },
  {
   "cell_type": "code",
   "execution_count": 2,
   "metadata": {},
   "outputs": [
    {
     "name": "stdout",
     "output_type": "stream",
     "text": [
      "input shape: (50000, 32, 32, 3)\n",
      "label shape: (50000, 1)\n"
     ]
    }
   ],
   "source": [
    "(x_train, y_train), (x_test, y_test) = cifar10.load_data()\n",
    "x_train = x_train.astype(np.float32) / 255.\n",
    "y_train = y_train.astype(np.int64)\n",
    "x_test = x_test.astype(np.float32) / 255.\n",
    "y_test = y_test.astype(np.int64)\n",
    "\n",
    "print(f\"input shape: {x_train.shape}\")\n",
    "print(f\"label shape: {y_train.shape}\")"
   ]
  },
  {
   "cell_type": "markdown",
   "metadata": {},
   "source": [
    "## Model 생성"
   ]
  },
  {
   "cell_type": "code",
   "execution_count": 3,
   "metadata": {},
   "outputs": [],
   "source": [
    "def create_model(optimizer='adam', init='glorot_uniform'):\n",
    "    model = keras.Sequential([\n",
    "        # input layer\n",
    "        keras.layers.Flatten(input_shape=(32, 32, 3)),\n",
    "        keras.layers.Dropout(0.5),\n",
    "        # hidden layers\n",
    "        keras.layers.Dense(1024,kernel_initializer=init),\n",
    "        keras.layers.Activation('relu'),\n",
    "        keras.layers.Dropout(0.2),\n",
    "        keras.layers.Dense(1024,kernel_initializer=init),\n",
    "        keras.layers.Activation('relu'),\n",
    "        keras.layers.Dropout(0.2),\n",
    "        # output layer\n",
    "        keras.layers.Dense(10,kernel_initializer=init),\n",
    "        keras.layers.Activation('softmax')\n",
    "    ])\n",
    "    model.compile(loss='sparse_categorical_crossentropy', optimizer=optimizer, metrics=['accuracy']) \n",
    "    return model"
   ]
  },
  {
   "cell_type": "code",
   "execution_count": 4,
   "metadata": {
    "scrolled": true
   },
   "outputs": [
    {
     "name": "stderr",
     "output_type": "stream",
     "text": [
      "WARNING: Logging before flag parsing goes to stderr.\n",
      "W0716 16:02:09.046936 139949282731840 deprecation.py:506] From /home/yongsu/anaconda3/envs/tf114/lib/python3.7/site-packages/tensorflow/python/ops/init_ops.py:1251: calling VarianceScaling.__init__ (from tensorflow.python.ops.init_ops) with dtype is deprecated and will be removed in a future version.\n",
      "Instructions for updating:\n",
      "Call initializer instance with the dtype argument instead of passing it to the constructor\n"
     ]
    },
    {
     "name": "stdout",
     "output_type": "stream",
     "text": [
      "Model: \"sequential\"\n",
      "_________________________________________________________________\n",
      "Layer (type)                 Output Shape              Param #   \n",
      "=================================================================\n",
      "flatten (Flatten)            (None, 3072)              0         \n",
      "_________________________________________________________________\n",
      "dropout (Dropout)            (None, 3072)              0         \n",
      "_________________________________________________________________\n",
      "dense (Dense)                (None, 1024)              3146752   \n",
      "_________________________________________________________________\n",
      "activation (Activation)      (None, 1024)              0         \n",
      "_________________________________________________________________\n",
      "dropout_1 (Dropout)          (None, 1024)              0         \n",
      "_________________________________________________________________\n",
      "dense_1 (Dense)              (None, 1024)              1049600   \n",
      "_________________________________________________________________\n",
      "activation_1 (Activation)    (None, 1024)              0         \n",
      "_________________________________________________________________\n",
      "dropout_2 (Dropout)          (None, 1024)              0         \n",
      "_________________________________________________________________\n",
      "dense_2 (Dense)              (None, 10)                10250     \n",
      "_________________________________________________________________\n",
      "activation_2 (Activation)    (None, 10)                0         \n",
      "=================================================================\n",
      "Total params: 4,206,602\n",
      "Trainable params: 4,206,602\n",
      "Non-trainable params: 0\n",
      "_________________________________________________________________\n",
      "Train on 50000 samples, validate on 10000 samples\n",
      "Epoch 1/5\n",
      "50000/50000 [==============================] - 1s 23us/sample - loss: 2.3278 - acc: 0.1968 - val_loss: 1.9041 - val_acc: 0.3218\n",
      "Epoch 2/5\n",
      "50000/50000 [==============================] - 1s 17us/sample - loss: 1.9211 - acc: 0.3049 - val_loss: 1.7969 - val_acc: 0.3592\n",
      "Epoch 3/5\n",
      "50000/50000 [==============================] - 1s 17us/sample - loss: 1.8620 - acc: 0.3260 - val_loss: 1.7337 - val_acc: 0.3810\n",
      "Epoch 4/5\n",
      "50000/50000 [==============================] - 1s 16us/sample - loss: 1.8186 - acc: 0.3417 - val_loss: 1.6961 - val_acc: 0.3936\n",
      "Epoch 5/5\n",
      "50000/50000 [==============================] - 1s 17us/sample - loss: 1.7894 - acc: 0.3561 - val_loss: 1.6760 - val_acc: 0.4114\n"
     ]
    }
   ],
   "source": [
    "model = create_model()\n",
    "model.summary()\n",
    "hist = model.fit(x_train, y_train, \n",
    "                 batch_size=1024, epochs=5,\n",
    "                 validation_data=(x_test, y_test))"
   ]
  },
  {
   "cell_type": "markdown",
   "metadata": {},
   "source": [
    "## Plot function"
   ]
  },
  {
   "cell_type": "code",
   "execution_count": 5,
   "metadata": {},
   "outputs": [
    {
     "data": {
      "image/png": "[encoded data removed]",
      "text/plain": [
       "<Figure size 1296x360 with 3 Axes>"
      ]
     },
     "metadata": {
      "needs_background": "light"
     },
     "output_type": "display_data"
    }
   ],
   "source": [
    "%matplotlib inline\n",
    "def plot_fn(labels, train_loss_histories, train_acc_histories, test_acc_histories):\n",
    "    fig = plt.figure(figsize=(18,5))\n",
    "    ax1 = fig.add_subplot(1, 3, 1)\n",
    "    ax2 = fig.add_subplot(1, 3, 2)\n",
    "    ax3 = fig.add_subplot(1, 3, 3)\n",
    "    for label, train_loss_history, train_acc_history, test_acc_history in zip(labels, train_loss_histories, train_acc_histories, test_acc_histories):\n",
    "        ax1.plot(train_loss_history, label=str(label))\n",
    "        ax2.plot(train_acc_history, label=str(label))\n",
    "        ax3.plot(test_acc_history, label=str(label))\n",
    "        \n",
    "    ax1.set_xlabel('Batch #')\n",
    "    ax1.set_ylabel('Training Loss [entropy]')\n",
    "    ax2.set_xlabel('Batch #')\n",
    "    ax2.set_ylabel('Training Accuracy')\n",
    "    ax3.set_xlabel('Batch #')\n",
    "    ax3.set_ylabel('Test Accuracy')\n",
    "    plt.legend()\n",
    "    plt.show\n",
    "plot_fn(['CIFAR-10'], [hist.history['loss']], [hist.history['acc']], [hist.history['val_acc']])"
   ]
  },
  {
   "cell_type": "markdown",
   "metadata": {},
   "source": [
    "## Hyperparameter Optimization\n",
    "scikit learn의 model_selection 모듈을 사용하면 간단하게 하이퍼파라미터 서치를 수행할 수 있습니다.\n",
    "\n",
    "GridSearchCV는 K-fold cross validation을 기반으로 주어진 parameter grid를 모두 탐색하면서 최적의 하이퍼 파라미터를 찾아냅니다.\n",
    "\n",
    "RandomizedSearchCV는 parameter grid를 모두 탐색하지 않고 랜덤하게 뽑은 몇 가지 하이퍼 파라미터 조합에 대해서만 탐색을 수행합니다.\n",
    "\n",
    "자세한 내용은 [Sklearn Docs](https://scikit-learn.org/stable/modules/grid_search.html)에서 찾아볼 수 있습니다."
   ]
  },
  {
   "cell_type": "code",
   "execution_count": 6,
   "metadata": {},
   "outputs": [],
   "source": [
    "from tensorflow.keras.wrappers.scikit_learn import KerasClassifier\n",
    "from sklearn.model_selection import GridSearchCV\n",
    "model = KerasClassifier(build_fn=create_model) # wrapper\n",
    "\n",
    "# opt parameter candidates\n",
    "optimizers = ['sgd', 'adam']\n",
    "init = ['glorot_uniform', 'normal']\n",
    "epochs = np.array([5, 10])\n",
    "batches = np.array([128, 256, 1024])\n",
    "# model parameters\n",
    "params={}\n",
    "\n",
    "# parameter grid generation\n",
    "param_grid = dict(optimizer=optimizers, init=init, nb_epoch=epochs, batch_size=batches)\n",
    "grid = GridSearchCV(estimator=model, param_grid=param_grid, cv=5) # 5-fold cross validation"
   ]
  },
  {
   "cell_type": "code",
   "execution_count": 7,
   "metadata": {
    "scrolled": true
   },
   "outputs": [
    {
     "name": "stdout",
     "output_type": "stream",
     "text": [
      "40000/40000 [==============================] - 1s 21us/sample - loss: 2.1963 - acc: 0.1926\n",
      "10000/10000 [==============================] - 0s 14us/sample - loss: 1.9802 - acc: 0.2811\n",
      "40000/40000 [==============================] - 1s 20us/sample - loss: 2.1959 - acc: 0.1898\n",
      "10000/10000 [==============================] - 0s 15us/sample - loss: 2.0232 - acc: 0.2589\n",
      "40000/40000 [==============================] - 1s 22us/sample - loss: 2.2005 - acc: 0.1868\n",
      "10000/10000 [==============================] - 0s 16us/sample - loss: 2.0090 - acc: 0.2479\n",
      "40000/40000 [==============================] - 1s 21us/sample - loss: 2.1954 - acc: 0.1906\n",
      "10000/10000 [==============================] - 0s 15us/sample - loss: 1.9882 - acc: 0.2780\n",
      "40000/40000 [==============================] - 1s 21us/sample - loss: 2.2040 - acc: 0.1869\n",
      "10000/10000 [==============================] - 0s 15us/sample - loss: 2.0074 - acc: 0.2682\n",
      "40000/40000 [==============================] - 1s 27us/sample - loss: 2.0088 - acc: 0.2709\n",
      "10000/10000 [==============================] - 0s 16us/sample - loss: 1.7900 - acc: 0.3575\n",
      "40000/40000 [==============================] - 1s 27us/sample - loss: 2.0326 - acc: 0.2676\n",
      "10000/10000 [==============================] - 0s 16us/sample - loss: 1.8396 - acc: 0.3376\n",
      "40000/40000 [==============================] - 1s 27us/sample - loss: 2.0202 - acc: 0.2677\n",
      "10000/10000 [==============================] - 0s 17us/sample - loss: 1.8006 - acc: 0.3573\n",
      "40000/40000 [==============================] - 1s 27us/sample - loss: 2.0264 - acc: 0.2673\n",
      "10000/10000 [==============================] - 0s 17us/sample - loss: 1.8268 - acc: 0.3604\n",
      "40000/40000 [==============================] - 1s 27us/sample - loss: 2.0239 - acc: 0.2679\n",
      "10000/10000 [==============================] - 0s 18us/sample - loss: 1.8142 - acc: 0.3497\n",
      "40000/40000 [==============================] - 1s 23us/sample - loss: 2.2042 - acc: 0.1917\n",
      "10000/10000 [==============================] - 0s 20us/sample - loss: 1.9967 - acc: 0.2752\n",
      "40000/40000 [==============================] - 1s 23us/sample - loss: 2.1990 - acc: 0.1880\n",
      "10000/10000 [==============================] - 0s 19us/sample - loss: 1.9971 - acc: 0.2814\n",
      "40000/40000 [==============================] - 1s 24us/sample - loss: 2.2046 - acc: 0.1847\n",
      "10000/10000 [==============================] - 0s 18us/sample - loss: 1.9921 - acc: 0.2658\n",
      "40000/40000 [==============================] - 1s 24us/sample - loss: 2.1947 - acc: 0.1905\n",
      "10000/10000 [==============================] - 0s 20us/sample - loss: 1.9875 - acc: 0.2877\n",
      "40000/40000 [==============================] - 1s 22us/sample - loss: 2.2064 - acc: 0.1851\n",
      "10000/10000 [==============================] - 0s 19us/sample - loss: 2.0231 - acc: 0.2462\n",
      "40000/40000 [==============================] - 1s 32us/sample - loss: 2.0315 - acc: 0.2641\n",
      "10000/10000 [==============================] - 0s 24us/sample - loss: 1.7859 - acc: 0.3629\n",
      "40000/40000 [==============================] - 1s 33us/sample - loss: 2.0291 - acc: 0.2650\n",
      "10000/10000 [==============================] - 0s 25us/sample - loss: 1.8398 - acc: 0.3404\n",
      "40000/40000 [==============================] - 1s 30us/sample - loss: 2.0547 - acc: 0.2575\n",
      "10000/10000 [==============================] - 0s 20us/sample - loss: 1.8007 - acc: 0.3401\n",
      "40000/40000 [==============================] - 1s 28us/sample - loss: 2.0262 - acc: 0.2652\n",
      "10000/10000 [==============================] - 0s 21us/sample - loss: 1.8111 - acc: 0.3533\n",
      "40000/40000 [==============================] - 1s 30us/sample - loss: 2.0290 - acc: 0.2685\n",
      "10000/10000 [==============================] - 0s 28us/sample - loss: 1.8638 - acc: 0.3199\n"
     ]
    },
    {
     "name": "stderr",
     "output_type": "stream",
     "text": [
      "W0716 16:03:12.781950 139949282731840 deprecation.py:506] From /home/yongsu/anaconda3/envs/tf114/lib/python3.7/site-packages/tensorflow/python/keras/initializers.py:143: calling RandomNormal.__init__ (from tensorflow.python.ops.init_ops) with dtype is deprecated and will be removed in a future version.\n",
      "Instructions for updating:\n",
      "Call initializer instance with the dtype argument instead of passing it to the constructor\n"
     ]
    },
    {
     "name": "stdout",
     "output_type": "stream",
     "text": [
      "40000/40000 [==============================] - 1s 26us/sample - loss: 2.6742 - acc: 0.1629\n",
      "10000/10000 [==============================] - 0s 26us/sample - loss: 2.0642 - acc: 0.2465\n",
      "40000/40000 [==============================] - 1s 29us/sample - loss: 2.6707 - acc: 0.1694\n",
      "10000/10000 [==============================] - 0s 25us/sample - loss: 2.1179 - acc: 0.2205\n",
      "40000/40000 [==============================] - 1s 29us/sample - loss: 2.6525 - acc: 0.1662\n",
      "10000/10000 [==============================] - 0s 25us/sample - loss: 2.0742 - acc: 0.2508\n",
      "40000/40000 [==============================] - 1s 27us/sample - loss: 2.6508 - acc: 0.1678\n",
      "10000/10000 [==============================] - 0s 24us/sample - loss: 2.0796 - acc: 0.2308\n",
      "40000/40000 [==============================] - 1s 25us/sample - loss: 2.6778 - acc: 0.1627\n",
      "10000/10000 [==============================] - 0s 25us/sample - loss: 2.1068 - acc: 0.2184\n",
      "40000/40000 [==============================] - 1s 30us/sample - loss: 2.2310 - acc: 0.2294\n",
      "10000/10000 [==============================] - 0s 24us/sample - loss: 1.8887 - acc: 0.3270\n",
      "40000/40000 [==============================] - 1s 32us/sample - loss: 2.2197 - acc: 0.2311\n",
      "10000/10000 [==============================] - 0s 24us/sample - loss: 1.8833 - acc: 0.3323\n",
      "40000/40000 [==============================] - 1s 31us/sample - loss: 2.2726 - acc: 0.2252\n",
      "10000/10000 [==============================] - 0s 27us/sample - loss: 1.8986 - acc: 0.3256\n",
      "40000/40000 [==============================] - 1s 31us/sample - loss: 2.2318 - acc: 0.2277\n",
      "10000/10000 [==============================] - 0s 24us/sample - loss: 1.8869 - acc: 0.3131\n",
      "40000/40000 [==============================] - 1s 31us/sample - loss: 2.2541 - acc: 0.2289\n",
      "10000/10000 [==============================] - 0s 25us/sample - loss: 1.8772 - acc: 0.3169\n",
      "40000/40000 [==============================] - 1s 25us/sample - loss: 2.6682 - acc: 0.1664\n",
      "10000/10000 [==============================] - 0s 26us/sample - loss: 2.0731 - acc: 0.2265\n",
      "40000/40000 [==============================] - 1s 25us/sample - loss: 2.6421 - acc: 0.1682\n",
      "10000/10000 [==============================] - 0s 25us/sample - loss: 2.1403 - acc: 0.2032\n",
      "40000/40000 [==============================] - 1s 26us/sample - loss: 2.6764 - acc: 0.1670\n",
      "10000/10000 [==============================] - 0s 26us/sample - loss: 2.1097 - acc: 0.2133\n",
      "40000/40000 [==============================] - 1s 25us/sample - loss: 2.6565 - acc: 0.1679\n",
      "10000/10000 [==============================] - 0s 28us/sample - loss: 2.0936 - acc: 0.2274\n",
      "40000/40000 [==============================] - 1s 25us/sample - loss: 2.6821 - acc: 0.1631\n",
      "10000/10000 [==============================] - 0s 28us/sample - loss: 2.0876 - acc: 0.2388\n",
      "40000/40000 [==============================] - 1s 31us/sample - loss: 2.2124 - acc: 0.2313\n",
      "10000/10000 [==============================] - 0s 26us/sample - loss: 1.8876 - acc: 0.3285\n",
      "40000/40000 [==============================] - 1s 32us/sample - loss: 2.2528 - acc: 0.2291\n",
      "10000/10000 [==============================] - 0s 31us/sample - loss: 1.8680 - acc: 0.3262\n",
      "40000/40000 [==============================] - 1s 32us/sample - loss: 2.2966 - acc: 0.2187\n",
      "10000/10000 [==============================] - 0s 28us/sample - loss: 1.8850 - acc: 0.3286\n",
      "40000/40000 [==============================] - 1s 33us/sample - loss: 2.3395 - acc: 0.2201\n",
      "10000/10000 [==============================] - 0s 30us/sample - loss: 1.9067 - acc: 0.3300\n",
      "40000/40000 [==============================] - 1s 34us/sample - loss: 2.3187 - acc: 0.2267\n",
      "10000/10000 [==============================] - 0s 32us/sample - loss: 1.9179 - acc: 0.3125\n",
      "40000/40000 [==============================] - 1s 21us/sample - loss: 2.2788 - acc: 0.1576\n",
      "10000/10000 [==============================] - 0s 26us/sample - loss: 2.0553 - acc: 0.2554\n",
      "40000/40000 [==============================] - 1s 21us/sample - loss: 2.2735 - acc: 0.1604\n",
      "10000/10000 [==============================] - 0s 26us/sample - loss: 2.0734 - acc: 0.2419\n",
      "40000/40000 [==============================] - 1s 21us/sample - loss: 2.2810 - acc: 0.1580\n",
      "10000/10000 [==============================] - 0s 26us/sample - loss: 2.0619 - acc: 0.2283\n",
      "40000/40000 [==============================] - 1s 23us/sample - loss: 2.2756 - acc: 0.1593\n",
      "10000/10000 [==============================] - 0s 30us/sample - loss: 2.0440 - acc: 0.2654\n",
      "40000/40000 [==============================] - 1s 22us/sample - loss: 2.2727 - acc: 0.1611\n",
      "10000/10000 [==============================] - 0s 28us/sample - loss: 2.0929 - acc: 0.2180\n",
      "40000/40000 [==============================] - 1s 27us/sample - loss: 2.0765 - acc: 0.2598\n",
      "10000/10000 [==============================] - 0s 29us/sample - loss: 1.8064 - acc: 0.3612\n",
      "40000/40000 [==============================] - 1s 27us/sample - loss: 2.0410 - acc: 0.2633\n",
      "10000/10000 [==============================] - 0s 32us/sample - loss: 1.8642 - acc: 0.3190\n",
      "40000/40000 [==============================] - 1s 26us/sample - loss: 2.1312 - acc: 0.2413\n",
      "10000/10000 [==============================] - 0s 30us/sample - loss: 1.8380 - acc: 0.3458\n",
      "40000/40000 [==============================] - 1s 24us/sample - loss: 2.0735 - acc: 0.2558\n",
      "10000/10000 [==============================] - 0s 30us/sample - loss: 1.8607 - acc: 0.3323\n",
      "40000/40000 [==============================] - 1s 25us/sample - loss: 2.1223 - acc: 0.2448\n",
      "10000/10000 [==============================] - 0s 33us/sample - loss: 1.8425 - acc: 0.3380\n",
      "40000/40000 [==============================] - 1s 24us/sample - loss: 2.2818 - acc: 0.1569\n",
      "10000/10000 [==============================] - 0s 31us/sample - loss: 2.0463 - acc: 0.2761\n",
      "40000/40000 [==============================] - 1s 26us/sample - loss: 2.2658 - acc: 0.1628\n",
      "10000/10000 [==============================] - 0s 31us/sample - loss: 2.0625 - acc: 0.2458\n",
      "40000/40000 [==============================] - 1s 25us/sample - loss: 2.2740 - acc: 0.1600\n",
      "10000/10000 [==============================] - 0s 31us/sample - loss: 2.0647 - acc: 0.2467\n",
      "40000/40000 [==============================] - 1s 23us/sample - loss: 2.2743 - acc: 0.1601\n",
      "10000/10000 [==============================] - 0s 34us/sample - loss: 2.0535 - acc: 0.2469\n",
      "40000/40000 [==============================] - 1s 23us/sample - loss: 2.2605 - acc: 0.1630\n",
      "10000/10000 [==============================] - 0s 33us/sample - loss: 2.0456 - acc: 0.2536\n",
      "40000/40000 [==============================] - 1s 25us/sample - loss: 2.0768 - acc: 0.2533\n",
      "10000/10000 [==============================] - 0s 33us/sample - loss: 1.8268 - acc: 0.3380\n",
      "40000/40000 [==============================] - 1s 25us/sample - loss: 2.1051 - acc: 0.2498\n",
      "10000/10000 [==============================] - 0s 32us/sample - loss: 1.8723 - acc: 0.3260\n",
      "40000/40000 [==============================] - 1s 27us/sample - loss: 2.0753 - acc: 0.2504\n",
      "10000/10000 [==============================] - 0s 33us/sample - loss: 1.8132 - acc: 0.3450\n",
      "40000/40000 [==============================] - 1s 27us/sample - loss: 2.0623 - acc: 0.2601\n",
      "10000/10000 [==============================] - 0s 34us/sample - loss: 1.8323 - acc: 0.3403\n",
      "40000/40000 [==============================] - 1s 27us/sample - loss: 2.1034 - acc: 0.2478\n",
      "10000/10000 [==============================] - 0s 36us/sample - loss: 1.8440 - acc: 0.3325\n",
      "40000/40000 [==============================] - 1s 24us/sample - loss: 2.9221 - acc: 0.1499\n",
      "10000/10000 [==============================] - 0s 35us/sample - loss: 2.0678 - acc: 0.2169\n",
      "40000/40000 [==============================] - 1s 24us/sample - loss: 2.9079 - acc: 0.1482\n",
      "10000/10000 [==============================] - 0s 35us/sample - loss: 2.1020 - acc: 0.2041\n",
      "40000/40000 [==============================] - 1s 25us/sample - loss: 2.9566 - acc: 0.1475\n",
      "10000/10000 [==============================] - 0s 35us/sample - loss: 2.1060 - acc: 0.2220\n",
      "40000/40000 [==============================] - 1s 24us/sample - loss: 2.9816 - acc: 0.1471\n",
      "10000/10000 [==============================] - 0s 36us/sample - loss: 2.1059 - acc: 0.2289\n",
      "40000/40000 [==============================] - 1s 25us/sample - loss: 2.9512 - acc: 0.1484\n",
      "10000/10000 [==============================] - 0s 35us/sample - loss: 2.1230 - acc: 0.2310\n"
     ]
    },
    {
     "name": "stdout",
     "output_type": "stream",
     "text": [
      "40000/40000 [==============================] - 1s 28us/sample - loss: 2.4725 - acc: 0.2085\n",
      "10000/10000 [==============================] - 0s 38us/sample - loss: 1.9096 - acc: 0.3226\n",
      "40000/40000 [==============================] - 1s 28us/sample - loss: 2.4469 - acc: 0.2140\n",
      "10000/10000 [==============================] - 0s 38us/sample - loss: 1.9248 - acc: 0.3089\n",
      "40000/40000 [==============================] - 1s 29us/sample - loss: 2.4262 - acc: 0.2062\n",
      "10000/10000 [==============================] - 0s 37us/sample - loss: 1.8828 - acc: 0.3227\n",
      "40000/40000 [==============================] - 1s 30us/sample - loss: 2.4253 - acc: 0.2113\n",
      "10000/10000 [==============================] - 0s 40us/sample - loss: 1.9010 - acc: 0.3125\n",
      "40000/40000 [==============================] - 1s 28us/sample - loss: 2.4648 - acc: 0.2116\n",
      "10000/10000 [==============================] - 0s 40us/sample - loss: 1.9129 - acc: 0.3049\n",
      "40000/40000 [==============================] - 1s 26us/sample - loss: 2.9889 - acc: 0.1499\n",
      "10000/10000 [==============================] - 0s 41us/sample - loss: 2.0791 - acc: 0.2331\n",
      "40000/40000 [==============================] - 1s 25us/sample - loss: 2.9784 - acc: 0.1449\n",
      "10000/10000 [==============================] - 0s 39us/sample - loss: 2.0790 - acc: 0.2289\n",
      "40000/40000 [==============================] - 1s 25us/sample - loss: 2.9996 - acc: 0.1519\n",
      "10000/10000 [==============================] - 0s 38us/sample - loss: 2.1265 - acc: 0.2123\n",
      "40000/40000 [==============================] - 1s 25us/sample - loss: 2.9563 - acc: 0.1470\n",
      "10000/10000 [==============================] - 0s 38us/sample - loss: 2.0853 - acc: 0.2224\n",
      "40000/40000 [==============================] - 1s 26us/sample - loss: 2.9508 - acc: 0.1509\n",
      "10000/10000 [==============================] - 0s 39us/sample - loss: 2.0935 - acc: 0.2204\n",
      "40000/40000 [==============================] - 1s 28us/sample - loss: 2.4026 - acc: 0.2110\n",
      "10000/10000 [==============================] - 0s 40us/sample - loss: 1.9157 - acc: 0.3030\n",
      "40000/40000 [==============================] - 1s 29us/sample - loss: 2.3832 - acc: 0.2086\n",
      "10000/10000 [==============================] - 0s 40us/sample - loss: 1.9166 - acc: 0.3073\n",
      "40000/40000 [==============================] - 1s 29us/sample - loss: 2.4426 - acc: 0.2099\n",
      "10000/10000 [==============================] - 0s 42us/sample - loss: 1.9045 - acc: 0.2999\n",
      "40000/40000 [==============================] - 1s 29us/sample - loss: 2.3598 - acc: 0.2194\n",
      "10000/10000 [==============================] - 0s 43us/sample - loss: 1.8948 - acc: 0.3253\n",
      "40000/40000 [==============================] - 1s 29us/sample - loss: 2.4259 - acc: 0.2072\n",
      "10000/10000 [==============================] - 0s 46us/sample - loss: 1.9268 - acc: 0.3042\n",
      "40000/40000 [==============================] - 1s 19us/sample - loss: 2.3800 - acc: 0.1232\n",
      "10000/10000 [==============================] - 0s 38us/sample - loss: 2.1734 - acc: 0.2103\n",
      "40000/40000 [==============================] - 1s 20us/sample - loss: 2.3990 - acc: 0.1171\n",
      "10000/10000 [==============================] - 0s 43us/sample - loss: 2.2085 - acc: 0.1836\n",
      "40000/40000 [==============================] - 1s 21us/sample - loss: 2.3942 - acc: 0.1169\n",
      "10000/10000 [==============================] - 0s 41us/sample - loss: 2.1964 - acc: 0.1997\n",
      "40000/40000 [==============================] - 1s 20us/sample - loss: 2.3856 - acc: 0.1204\n",
      "10000/10000 [==============================] - 0s 47us/sample - loss: 2.1843 - acc: 0.2271\n",
      "40000/40000 [==============================] - 1s 22us/sample - loss: 2.3873 - acc: 0.1186\n",
      "10000/10000 [==============================] - 0s 40us/sample - loss: 2.2006 - acc: 0.1879\n",
      "40000/40000 [==============================] - 1s 24us/sample - loss: 2.5158 - acc: 0.1665\n",
      "10000/10000 [==============================] - 0s 46us/sample - loss: 1.9849 - acc: 0.2854\n",
      "40000/40000 [==============================] - 1s 20us/sample - loss: 2.5959 - acc: 0.1609\n",
      "10000/10000 [==============================] - 0s 41us/sample - loss: 2.0315 - acc: 0.2307\n",
      "40000/40000 [==============================] - 1s 22us/sample - loss: 2.4116 - acc: 0.1776\n",
      "10000/10000 [==============================] - 0s 42us/sample - loss: 1.9563 - acc: 0.2699\n",
      "40000/40000 [==============================] - 1s 22us/sample - loss: 2.4363 - acc: 0.1845\n",
      "10000/10000 [==============================] - 0s 40us/sample - loss: 1.9562 - acc: 0.2993\n",
      "40000/40000 [==============================] - 1s 21us/sample - loss: 2.4776 - acc: 0.1773\n",
      "10000/10000 [==============================] - 0s 41us/sample - loss: 1.9743 - acc: 0.2868\n",
      "40000/40000 [==============================] - 1s 20us/sample - loss: 2.3913 - acc: 0.1181\n",
      "10000/10000 [==============================] - 0s 45us/sample - loss: 2.1898 - acc: 0.1922\n",
      "40000/40000 [==============================] - 1s 20us/sample - loss: 2.3831 - acc: 0.1202\n",
      "10000/10000 [==============================] - 0s 41us/sample - loss: 2.1975 - acc: 0.1942\n",
      "40000/40000 [==============================] - 1s 22us/sample - loss: 2.3787 - acc: 0.1253\n",
      "10000/10000 [==============================] - 0s 44us/sample - loss: 2.1994 - acc: 0.1986\n",
      "40000/40000 [==============================] - 1s 20us/sample - loss: 2.3915 - acc: 0.1173\n",
      "10000/10000 [==============================] - 0s 41us/sample - loss: 2.1923 - acc: 0.2067\n",
      "40000/40000 [==============================] - 1s 21us/sample - loss: 2.3970 - acc: 0.1190\n",
      "10000/10000 [==============================] - 0s 44us/sample - loss: 2.1889 - acc: 0.2073\n",
      "40000/40000 [==============================] - 1s 23us/sample - loss: 2.4525 - acc: 0.1786\n",
      "10000/10000 [==============================] - 0s 47us/sample - loss: 2.0161 - acc: 0.2650\n",
      "40000/40000 [==============================] - 1s 22us/sample - loss: 2.4807 - acc: 0.1778\n",
      "10000/10000 [==============================] - 0s 45us/sample - loss: 2.0087 - acc: 0.2741\n",
      "40000/40000 [==============================] - 1s 22us/sample - loss: 2.4242 - acc: 0.1809\n",
      "10000/10000 [==============================] - 0s 46us/sample - loss: 1.9335 - acc: 0.3053\n",
      "40000/40000 [==============================] - 1s 23us/sample - loss: 2.5633 - acc: 0.1689\n",
      "10000/10000 [==============================] - 0s 44us/sample - loss: 2.0103 - acc: 0.2659\n",
      "40000/40000 [==============================] - 1s 22us/sample - loss: 2.5348 - acc: 0.1672\n",
      "10000/10000 [==============================] - 0s 44us/sample - loss: 2.0096 - acc: 0.2577\n",
      "40000/40000 [==============================] - 1s 21us/sample - loss: 3.7327 - acc: 0.1192\n",
      "10000/10000 [==============================] - 0s 46us/sample - loss: 2.1490 - acc: 0.2392\n",
      "40000/40000 [==============================] - 1s 21us/sample - loss: 3.6914 - acc: 0.1259\n",
      "10000/10000 [==============================] - 0s 46us/sample - loss: 2.5156 - acc: 0.1522\n",
      "40000/40000 [==============================] - 1s 21us/sample - loss: 3.7280 - acc: 0.1166\n",
      "10000/10000 [==============================] - 0s 49us/sample - loss: 2.3883 - acc: 0.1684\n",
      "40000/40000 [==============================] - 1s 22us/sample - loss: 3.6693 - acc: 0.1183\n",
      "10000/10000 [==============================] - 0s 47us/sample - loss: 2.2520 - acc: 0.1841\n",
      "40000/40000 [==============================] - 1s 24us/sample - loss: 3.5939 - acc: 0.1229\n",
      "10000/10000 [==============================] - 0s 47us/sample - loss: 2.5534 - acc: 0.1672\n",
      "40000/40000 [==============================] - 1s 23us/sample - loss: 3.5637 - acc: 0.1440\n",
      "10000/10000 [==============================] - 0s 47us/sample - loss: 2.0740 - acc: 0.2402\n",
      "40000/40000 [==============================] - 1s 23us/sample - loss: 3.4665 - acc: 0.1404\n",
      "10000/10000 [==============================] - 0s 49us/sample - loss: 2.0837 - acc: 0.2400\n",
      "40000/40000 [==============================] - 1s 22us/sample - loss: 3.4695 - acc: 0.1331\n",
      "10000/10000 [==============================] - 0s 47us/sample - loss: 2.1223 - acc: 0.2310\n",
      "40000/40000 [==============================] - 1s 23us/sample - loss: 3.5098 - acc: 0.1444\n",
      "10000/10000 [==============================] - 1s 55us/sample - loss: 2.0850 - acc: 0.2417\n",
      "40000/40000 [==============================] - 1s 22us/sample - loss: 3.2946 - acc: 0.1508\n",
      "10000/10000 [==============================] - 0s 49us/sample - loss: 2.0504 - acc: 0.2532\n"
     ]
    },
    {
     "name": "stdout",
     "output_type": "stream",
     "text": [
      "40000/40000 [==============================] - 1s 22us/sample - loss: 3.6424 - acc: 0.1223\n",
      "10000/10000 [==============================] - 1s 52us/sample - loss: 2.2231 - acc: 0.2027\n",
      "40000/40000 [==============================] - 1s 22us/sample - loss: 3.5969 - acc: 0.1225\n",
      "10000/10000 [==============================] - 1s 51us/sample - loss: 2.4574 - acc: 0.1632\n",
      "40000/40000 [==============================] - 1s 23us/sample - loss: 3.6697 - acc: 0.1212\n",
      "10000/10000 [==============================] - 1s 50us/sample - loss: 2.2085 - acc: 0.1961\n",
      "40000/40000 [==============================] - 1s 23us/sample - loss: 3.5913 - acc: 0.1217\n",
      "10000/10000 [==============================] - 1s 52us/sample - loss: 2.2669 - acc: 0.1992\n",
      "40000/40000 [==============================] - 1s 23us/sample - loss: 3.7606 - acc: 0.1195\n",
      "10000/10000 [==============================] - 1s 52us/sample - loss: 2.2609 - acc: 0.2048\n",
      "40000/40000 [==============================] - 1s 23us/sample - loss: 3.9340 - acc: 0.1350\n",
      "10000/10000 [==============================] - 1s 51us/sample - loss: 2.0832 - acc: 0.2310\n",
      "40000/40000 [==============================] - 1s 24us/sample - loss: 3.1802 - acc: 0.1475\n",
      "10000/10000 [==============================] - 1s 53us/sample - loss: 2.0479 - acc: 0.2466\n",
      "40000/40000 [==============================] - 1s 23us/sample - loss: 3.3379 - acc: 0.1516\n",
      "10000/10000 [==============================] - 1s 53us/sample - loss: 2.0279 - acc: 0.2474\n",
      "40000/40000 [==============================] - 1s 24us/sample - loss: 3.3623 - acc: 0.1473\n",
      "10000/10000 [==============================] - 1s 50us/sample - loss: 2.0856 - acc: 0.2441\n",
      "40000/40000 [==============================] - 1s 24us/sample - loss: 3.0717 - acc: 0.1589\n",
      "10000/10000 [==============================] - 1s 57us/sample - loss: 2.0478 - acc: 0.2541\n",
      "50000/50000 [==============================] - 3s 52us/sample - loss: 1.9894 - acc: 0.2842\n"
     ]
    }
   ],
   "source": [
    "# 각 hyperparameter에 따른 모델들을 학습합니다\n",
    "start=time()\n",
    "grid_result = grid.fit(x_train, y_train, **params)\n",
    "end=time()"
   ]
  },
  {
   "cell_type": "code",
   "execution_count": 8,
   "metadata": {},
   "outputs": [
    {
     "name": "stdout",
     "output_type": "stream",
     "text": [
      "Best: 0.352500 using {'batch_size': 128, 'init': 'glorot_uniform', 'nb_epoch': 5, 'optimizer': 'adam'}\n",
      "0.266820 (0.012260) with: {'batch_size': 128, 'init': 'glorot_uniform', 'nb_epoch': 5, 'optimizer': 'sgd'}\n",
      "0.352500 (0.008250) with: {'batch_size': 128, 'init': 'glorot_uniform', 'nb_epoch': 5, 'optimizer': 'adam'}\n",
      "0.271260 (0.014467) with: {'batch_size': 128, 'init': 'glorot_uniform', 'nb_epoch': 10, 'optimizer': 'sgd'}\n",
      "0.343320 (0.014494) with: {'batch_size': 128, 'init': 'glorot_uniform', 'nb_epoch': 10, 'optimizer': 'adam'}\n",
      "0.233400 (0.013210) with: {'batch_size': 128, 'init': 'normal', 'nb_epoch': 5, 'optimizer': 'sgd'}\n",
      "0.322980 (0.006992) with: {'batch_size': 128, 'init': 'normal', 'nb_epoch': 5, 'optimizer': 'adam'}\n",
      "0.221840 (0.012334) with: {'batch_size': 128, 'init': 'normal', 'nb_epoch': 10, 'optimizer': 'sgd'}\n",
      "0.325160 (0.006446) with: {'batch_size': 128, 'init': 'normal', 'nb_epoch': 10, 'optimizer': 'adam'}\n",
      "0.241800 (0.017266) with: {'batch_size': 256, 'init': 'glorot_uniform', 'nb_epoch': 5, 'optimizer': 'sgd'}\n",
      "0.339260 (0.014033) with: {'batch_size': 256, 'init': 'glorot_uniform', 'nb_epoch': 5, 'optimizer': 'adam'}\n",
      "0.253820 (0.011483) with: {'batch_size': 256, 'init': 'glorot_uniform', 'nb_epoch': 10, 'optimizer': 'sgd'}\n",
      "0.336360 (0.006559) with: {'batch_size': 256, 'init': 'glorot_uniform', 'nb_epoch': 10, 'optimizer': 'adam'}\n",
      "0.220580 (0.009643) with: {'batch_size': 256, 'init': 'normal', 'nb_epoch': 5, 'optimizer': 'sgd'}\n",
      "0.314320 (0.007214) with: {'batch_size': 256, 'init': 'normal', 'nb_epoch': 5, 'optimizer': 'adam'}\n",
      "0.223420 (0.007177) with: {'batch_size': 256, 'init': 'normal', 'nb_epoch': 10, 'optimizer': 'sgd'}\n",
      "0.307940 (0.008998) with: {'batch_size': 256, 'init': 'normal', 'nb_epoch': 10, 'optimizer': 'adam'}\n",
      "0.201720 (0.015755) with: {'batch_size': 1024, 'init': 'glorot_uniform', 'nb_epoch': 5, 'optimizer': 'sgd'}\n",
      "0.274420 (0.023768) with: {'batch_size': 1024, 'init': 'glorot_uniform', 'nb_epoch': 5, 'optimizer': 'adam'}\n",
      "0.199800 (0.006236) with: {'batch_size': 1024, 'init': 'glorot_uniform', 'nb_epoch': 10, 'optimizer': 'sgd'}\n",
      "0.273600 (0.016681) with: {'batch_size': 1024, 'init': 'glorot_uniform', 'nb_epoch': 10, 'optimizer': 'adam'}\n",
      "0.182220 (0.030226) with: {'batch_size': 1024, 'init': 'normal', 'nb_epoch': 5, 'optimizer': 'sgd'}\n",
      "0.241220 (0.007081) with: {'batch_size': 1024, 'init': 'normal', 'nb_epoch': 5, 'optimizer': 'adam'}\n",
      "0.193200 (0.015292) with: {'batch_size': 1024, 'init': 'normal', 'nb_epoch': 10, 'optimizer': 'sgd'}\n",
      "0.244640 (0.007580) with: {'batch_size': 1024, 'init': 'normal', 'nb_epoch': 10, 'optimizer': 'adam'}\n",
      "total time: 578.1292154788971\n"
     ]
    }
   ],
   "source": [
    "# 탐색된 모델들의 성능을 비교합니다\n",
    "print(\"Best: %f using %s\" % (grid_result.best_score_, grid_result.best_params_))\n",
    "means = grid_result.cv_results_['mean_test_score']\n",
    "stds = grid_result.cv_results_['std_test_score']\n",
    "params = grid_result.cv_results_['params']\n",
    "for mean, stdev, param in zip(means, stds, params):\n",
    "    print(\"%f (%f) with: %r\" % (mean, stdev, param))\n",
    "print(\"total time:\",end-start)"
   ]
  },
  {
   "cell_type": "code",
   "execution_count": 9,
   "metadata": {},
   "outputs": [
    {
     "name": "stdout",
     "output_type": "stream",
     "text": [
      "Train on 50000 samples, validate on 10000 samples\n",
      "Epoch 1/5\n",
      "50000/50000 [==============================] - 5s 93us/sample - loss: 2.0312 - acc: 0.2696 - val_loss: 1.8179 - val_acc: 0.3502\n",
      "Epoch 2/5\n",
      "50000/50000 [==============================] - 2s 45us/sample - loss: 1.8481 - acc: 0.3306 - val_loss: 1.7229 - val_acc: 0.3880\n",
      "Epoch 3/5\n",
      "50000/50000 [==============================] - 2s 46us/sample - loss: 1.7983 - acc: 0.3506 - val_loss: 1.6941 - val_acc: 0.4108\n",
      "Epoch 4/5\n",
      "50000/50000 [==============================] - 2s 45us/sample - loss: 1.7651 - acc: 0.3615 - val_loss: 1.6528 - val_acc: 0.4136\n",
      "Epoch 5/5\n",
      "50000/50000 [==============================] - 2s 45us/sample - loss: 1.7352 - acc: 0.3760 - val_loss: 1.6302 - val_acc: 0.4243\n"
     ]
    },
    {
     "data": {
      "image/png": "[encoded data removed]",
      "text/plain": [
       "<Figure size 1296x360 with 3 Axes>"
      ]
     },
     "metadata": {
      "needs_background": "light"
     },
     "output_type": "display_data"
    }
   ],
   "source": [
    "# 가장 좋은 validation accuracy를 보인 하이퍼파라미터로 모든 training data를 포함하여 다시 학습합니다\n",
    "best_model = create_model(init=grid_result.best_params_['init'], optimizer=grid_result.best_params_['optimizer'])\n",
    "best_hist = best_model.fit(x_train, y_train,\n",
    "                           batch_size=grid_result.best_params_['batch_size'], epochs=grid_result.best_params_['nb_epoch'],\n",
    "                           validation_data=(x_test, y_test))\n",
    "plot_fn(['CIFAR-10'], [best_hist.history['loss']], [best_hist.history['acc']], [best_hist.history['val_acc']])"
   ]
  },
  {
   "cell_type": "code",
   "execution_count": null,
   "metadata": {},
   "outputs": [],
   "source": []
  }
 ],
 "metadata": {
  "kernelspec": {
   "display_name": "Python 3",
   "language": "python",
   "name": "python3"
  },
  "language_info": {
   "codemirror_mode": {
    "name": "ipython",
    "version": 3
   },
   "file_extension": ".py",
   "mimetype": "text/x-python",
   "name": "python",
   "nbconvert_exporter": "python",
   "pygments_lexer": "ipython3",
   "version": "3.7.3"
  }
 },
 "nbformat": 4,
 "nbformat_minor": 2
}
